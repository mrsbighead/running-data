{
 "cells": [
  {
   "cell_type": "markdown",
   "metadata": {},
   "source": [
    "<h1>Runkeeper Analyzer</h1>\n",
    "<p> I am learning data analysis and love running, so I put the two together. Please fell free to comment and make suggestions </p>"
   ]
  },
  {
   "cell_type": "code",
   "execution_count": 1,
   "metadata": {
    "collapsed": true
   },
   "outputs": [],
   "source": [
    "#Import libraries \n",
    "import pandas as pd\n",
    "import numpy as np\n",
    "import matplotlib.pyplot as plt\n",
    "from matplotlib import cm\n",
    "import matplotlib.dates as mdates\n",
    "from scipy import stats\n",
    "from datetime import datetime as dt\n",
    "%matplotlib inline "
   ]
  },
  {
   "cell_type": "code",
   "execution_count": 2,
   "metadata": {
    "collapsed": false
   },
   "outputs": [
    {
     "name": "stdout",
     "output_type": "stream",
     "text": [
      "                  Date     Type Route Name  Distance (km) Duration  \\\n",
      "0  2017-08-10 17:59:54  Running        NaN           3.00    18:51   \n",
      "1  2017-08-08 18:44:31  Running        NaN           6.94    45:23   \n",
      "2  2017-07-28 12:40:04  Running        NaN           7.86    53:12   \n",
      "3  2017-07-24 20:24:47  Running        NaN           6.09    45:33   \n",
      "4  2017-07-21 21:43:10  Running        NaN           5.23    32:13   \n",
      "\n",
      "  Average Pace  Average Speed (km/h)  Calories Burned  Climb (m)  \\\n",
      "0         6:18                  9.54            162.0         21   \n",
      "1         6:32                  9.17            376.0         62   \n",
      "2         6:46                  8.86            417.0         65   \n",
      "3         7:29                  8.02            318.0         69   \n",
      "4         6:10                  9.73            289.0         71   \n",
      "\n",
      "   Average Heart Rate (bpm) Notes             GPX File  \n",
      "0                       NaN   NaN  2017-08-10-1759.gpx  \n",
      "1                       NaN   NaN  2017-08-08-1844.gpx  \n",
      "2                       NaN   NaN  2017-07-28-1240.gpx  \n",
      "3                       NaN   NaN  2017-07-24-2024.gpx  \n",
      "4                       NaN   NaN  2017-07-21-2143.gpx  \n"
     ]
    }
   ],
   "source": [
    "#Load data \n",
    "data = '/home/camila/Desktop/runkeeper-data-export-26662480-2017-08-15-1401/cardioActivities.csv'\n",
    "\n",
    "df_runkeeper = pd.read_csv(data)\n",
    "\n",
    "print(df_runkeeper.head())"
   ]
  },
  {
   "cell_type": "code",
   "execution_count": 3,
   "metadata": {
    "collapsed": false
   },
   "outputs": [
    {
     "name": "stdout",
     "output_type": "stream",
     "text": [
      "Date                          0\n",
      "Type                          0\n",
      "Route Name                  316\n",
      "Distance (km)                 0\n",
      "Duration                      0\n",
      "Average Pace                 18\n",
      "Average Speed (km/h)         18\n",
      "Calories Burned               0\n",
      "Climb (m)                     0\n",
      "Average Heart Rate (bpm)    319\n",
      "Notes                       309\n",
      "GPX File                     54\n",
      "dtype: int64\n"
     ]
    }
   ],
   "source": [
    "#Check if any data is missing\n",
    "print(df_runkeeper.isnull().sum())"
   ]
  },
  {
   "cell_type": "code",
   "execution_count": 4,
   "metadata": {
    "collapsed": false
   },
   "outputs": [
    {
     "name": "stdout",
     "output_type": "stream",
     "text": [
      "True\n"
     ]
    }
   ],
   "source": [
    "#Now, check if any data is duplicated ---> have to work on this\n",
    "print(df_runkeeper.duplicated().any())"
   ]
  },
  {
   "cell_type": "code",
   "execution_count": 5,
   "metadata": {
    "collapsed": false
   },
   "outputs": [
    {
     "name": "stdout",
     "output_type": "stream",
     "text": [
      "                     index  Type\n",
      "0                  Running   262\n",
      "1                  Cycling    34\n",
      "2        Strength Training    13\n",
      "3                  Walking     6\n",
      "4                  Skating     2\n",
      "5                 Swimming     2\n",
      "6                   Rowing     2\n",
      "7          Downhill Skiing     1\n",
      "8                 Spinning     1\n",
      "9   Stairmaster / Stepwell     1\n",
      "10              Elliptical     1\n"
     ]
    }
   ],
   "source": [
    "#Activities types\n",
    "print(df_runkeeper['Type'].value_counts().reset_index())"
   ]
  },
  {
   "cell_type": "code",
   "execution_count": 6,
   "metadata": {
    "collapsed": false
   },
   "outputs": [],
   "source": [
    "#Split the table, only running:\n",
    "running = df_runkeeper.loc[df_runkeeper['Type'] == 'Running']"
   ]
  },
  {
   "cell_type": "code",
   "execution_count": 7,
   "metadata": {
    "collapsed": true
   },
   "outputs": [],
   "source": [
    "#Drop not useful columns:\n",
    "running = running.drop(['Route Name','Notes'] , 1)"
   ]
  },
  {
   "cell_type": "code",
   "execution_count": 8,
   "metadata": {
    "collapsed": false
   },
   "outputs": [],
   "source": [
    "#Parse date:\n",
    "def parse_date(date):\n",
    "    date = str(date)\n",
    "    if date == '':\n",
    "        return None\n",
    "    else:\n",
    "        return dt.strptime(date,'%Y-%m-%d %H:%M:%S')\n",
    "    \n",
    "#running['parsed_date'] = running[\"Date\"].apply(parse_date)\n",
    "#running.loc[:,'parsed_date'] = running[\"Date\"].apply(parse_date)\n",
    "running = running.assign(parsed_date = running[\"Date\"].apply(parse_date))\n",
    "#running = running.join(running['parsed_date'])"
   ]
  },
  {
   "cell_type": "code",
   "execution_count": 9,
   "metadata": {
    "collapsed": false
   },
   "outputs": [],
   "source": [
    "#Parse pace\n",
    "def convert2pace(speed):\n",
    "    pace = 60/speed\n",
    "    return pace\n",
    "\n",
    "running[\"Average Pace\"] = running[\"Average Speed (km/h)\"].apply(convert2pace)"
   ]
  },
  {
   "cell_type": "code",
   "execution_count": 10,
   "metadata": {
    "collapsed": false
   },
   "outputs": [],
   "source": [
    "#Drop speed outliers\n",
    "running = running[np.abs(running['Average Speed (km/h)']-running['Average Speed (km/h)'].mean())<=(3*running['Average Speed (km/h)'].std())] "
   ]
  },
  {
   "cell_type": "code",
   "execution_count": 12,
   "metadata": {
    "collapsed": false
   },
   "outputs": [
    {
     "data": {
      "text/html": [
       "<div>\n",
       "<table border=\"1\" class=\"dataframe\">\n",
       "  <thead>\n",
       "    <tr style=\"text-align: right;\">\n",
       "      <th></th>\n",
       "      <th>Distance (km)</th>\n",
       "      <th>Average Pace</th>\n",
       "      <th>Average Speed (km/h)</th>\n",
       "      <th>Calories Burned</th>\n",
       "      <th>Climb (m)</th>\n",
       "      <th>Average Heart Rate (bpm)</th>\n",
       "    </tr>\n",
       "  </thead>\n",
       "  <tbody>\n",
       "    <tr>\n",
       "      <th>count</th>\n",
       "      <td>259.000000</td>\n",
       "      <td>259.000000</td>\n",
       "      <td>259.000000</td>\n",
       "      <td>259.000000</td>\n",
       "      <td>259.000000</td>\n",
       "      <td>5.000000</td>\n",
       "    </tr>\n",
       "    <tr>\n",
       "      <th>mean</th>\n",
       "      <td>4.707143</td>\n",
       "      <td>7.107406</td>\n",
       "      <td>8.807027</td>\n",
       "      <td>243.675263</td>\n",
       "      <td>47.787645</td>\n",
       "      <td>141.600000</td>\n",
       "    </tr>\n",
       "    <tr>\n",
       "      <th>std</th>\n",
       "      <td>2.930982</td>\n",
       "      <td>1.660641</td>\n",
       "      <td>1.656156</td>\n",
       "      <td>157.372611</td>\n",
       "      <td>49.851225</td>\n",
       "      <td>22.995652</td>\n",
       "    </tr>\n",
       "    <tr>\n",
       "      <th>min</th>\n",
       "      <td>0.220000</td>\n",
       "      <td>4.421518</td>\n",
       "      <td>3.750000</td>\n",
       "      <td>13.000000</td>\n",
       "      <td>0.000000</td>\n",
       "      <td>101.000000</td>\n",
       "    </tr>\n",
       "    <tr>\n",
       "      <th>25%</th>\n",
       "      <td>2.675000</td>\n",
       "      <td>6.060606</td>\n",
       "      <td>7.790000</td>\n",
       "      <td>138.000000</td>\n",
       "      <td>11.500000</td>\n",
       "      <td>147.000000</td>\n",
       "    </tr>\n",
       "    <tr>\n",
       "      <th>50%</th>\n",
       "      <td>4.470000</td>\n",
       "      <td>6.703911</td>\n",
       "      <td>8.950000</td>\n",
       "      <td>221.967186</td>\n",
       "      <td>36.000000</td>\n",
       "      <td>150.000000</td>\n",
       "    </tr>\n",
       "    <tr>\n",
       "      <th>75%</th>\n",
       "      <td>5.685000</td>\n",
       "      <td>7.702182</td>\n",
       "      <td>9.900000</td>\n",
       "      <td>294.500000</td>\n",
       "      <td>70.000000</td>\n",
       "      <td>153.000000</td>\n",
       "    </tr>\n",
       "    <tr>\n",
       "      <th>max</th>\n",
       "      <td>21.100000</td>\n",
       "      <td>16.000000</td>\n",
       "      <td>13.570000</td>\n",
       "      <td>1186.000000</td>\n",
       "      <td>328.000000</td>\n",
       "      <td>157.000000</td>\n",
       "    </tr>\n",
       "  </tbody>\n",
       "</table>\n",
       "</div>"
      ],
      "text/plain": [
       "       Distance (km)  Average Pace  Average Speed (km/h)  Calories Burned  \\\n",
       "count     259.000000    259.000000            259.000000       259.000000   \n",
       "mean        4.707143      7.107406              8.807027       243.675263   \n",
       "std         2.930982      1.660641              1.656156       157.372611   \n",
       "min         0.220000      4.421518              3.750000        13.000000   \n",
       "25%         2.675000      6.060606              7.790000       138.000000   \n",
       "50%         4.470000      6.703911              8.950000       221.967186   \n",
       "75%         5.685000      7.702182              9.900000       294.500000   \n",
       "max        21.100000     16.000000             13.570000      1186.000000   \n",
       "\n",
       "        Climb (m)  Average Heart Rate (bpm)  \n",
       "count  259.000000                  5.000000  \n",
       "mean    47.787645                141.600000  \n",
       "std     49.851225                 22.995652  \n",
       "min      0.000000                101.000000  \n",
       "25%     11.500000                147.000000  \n",
       "50%     36.000000                150.000000  \n",
       "75%     70.000000                153.000000  \n",
       "max    328.000000                157.000000  "
      ]
     },
     "execution_count": 12,
     "metadata": {},
     "output_type": "execute_result"
    }
   ],
   "source": [
    "#DF describe\n",
    "running.describe()"
   ]
  },
  {
   "cell_type": "code",
   "execution_count": 13,
   "metadata": {
    "collapsed": false
   },
   "outputs": [],
   "source": [
    "# Variables:\n",
    "oldest = min(running[\"parsed_date\"])\n",
    "most_recent = max(running[\"parsed_date\"])\n",
    "delta_time = most_recent - oldest\n",
    "days_over_time = delta_time / np.timedelta64(1, 'D')\n",
    "years_over_time =  int(days_over_time/365)\n",
    "months = int((days_over_time % 365)/30)\n",
    "total_distance = running[\"Distance (km)\"].sum()\n",
    "year_avg = total_distance/years_over_time\n",
    "mean_distance = running[\"Distance (km)\"].mean()\n",
    "max_distance =  running[\"Distance (km)\"].max()\n",
    "min_distance =  running[\"Distance (km)\"].min()\n",
    "total_calories = running[\"Calories Burned\"].sum()\n",
    "total_activities = running[\"Date\"].count()\n",
    "avg_calories = total_calories/total_activities\n",
    "avg_pace = running[\"Average Pace\"].mean()\n",
    "avg_speed = running[\"Average Speed (km/h)\"].mean()\n",
    "total_climb = running[\"Climb (m)\"].sum()\n",
    "avg_heart_rate = (running[\"Average Heart Rate (bpm)\"].sum())/ (running[\"Average Heart Rate (bpm)\"].count())\n",
    "avg_climb = total_climb/total_activities"
   ]
  },
  {
   "cell_type": "code",
   "execution_count": 14,
   "metadata": {
    "collapsed": false
   },
   "outputs": [
    {
     "name": "stdout",
     "output_type": "stream",
     "text": [
      "In total I ran 259 times over aprox 3 years and 8 months (1351 days) covering a total distance of 1223.93 km.\n",
      "I usually run 4.7km each activity.\n",
      "The max. distance I ran was 21.1km and the min distance was 0.22km.\n",
      "During all this running I burnt a total of 63111.9 calories. Average of 243.7 calories per activity.\n",
      "My average pace is 7.1 min/km and therefore my average speed is 8.8 km/h.\n",
      "Total climb was 12377 meters and the average climb per activitiy was 47.8 meters.\n",
      "Last but not least, average heart rate was 141.6 bpm.\n"
     ]
    }
   ],
   "source": [
    "# Description:\n",
    "str_total_run1 = \"In total I ran \" + str(total_activities) + \" times over aprox \" + str(years_over_time) + \" years and \" + str(months) + \" months (\" + str(int(days_over_time)) + \" days) covering a total distance of 1223.93 km.\"\n",
    "str_total_run2 =  \"\\nI usually run {0:.1f}\".format(mean_distance) + \"km each activity.\" + \"\\nThe max. distance I ran was \" + str(max_distance) + \"km and the min distance was \" + str(min_distance) + \"km.\"\n",
    "str_total_run3 = \"\\nDuring all this running I burnt a total of {0:.1f}\".format(total_calories)+ \" calories. Average of {0:.1f}\".format(avg_calories) + \" calories per activity.\"\n",
    "str_total_run4 =  \"\\nMy average pace is {0:.1f}\".format(avg_pace) + \" min/km and therefore my average speed is {0:.1f}\".format(avg_speed) + \" km/h.\"\n",
    "str_total_run5 = \"\\nTotal climb was \" + str(total_climb) + \" meters and the average climb per activitiy was {0:.1f}\".format(avg_climb) + \" meters.\"\n",
    "str_total_run6 = \"\\nLast but not least, average heart rate was {0:.1f}\".format(avg_heart_rate) + \" bpm.\"\n",
    "overview_report = str_total_run1 + str_total_run2 + str_total_run3 + str_total_run4 + str_total_run5 + str_total_run6\n",
    "print(overview_report )"
   ]
  },
  {
   "cell_type": "code",
   "execution_count": 15,
   "metadata": {
    "collapsed": false
   },
   "outputs": [
    {
     "data": {
      "image/png": "[encoded data removed]",
      "text/plain": [
       "<matplotlib.figure.Figure at 0x7fe78a6ea438>"
      ]
     },
     "metadata": {},
     "output_type": "display_data"
    }
   ],
   "source": [
    "#Compare average speed ---> ticks labels\n",
    "around5k = running[(running[\"Distance (km)\"] >= 4.5) & (running[\"Distance (km)\"] <= 5.5)]\n",
    "around10k = running[(running[\"Distance (km)\"] >= 9.5) & (running[\"Distance (km)\"] <= 10.5)]\n",
    "around21k = running[(running[\"Distance (km)\"] >= 20) & (running[\"Distance (km)\"] <= 21.5)]\n",
    "data = (around5k['Average Speed (km/h)'], around10k['Average Speed (km/h)'], around21k['Average Speed (km/h)'])\n",
    "\n",
    "fig = plt.figure()\n",
    "\n",
    "ax = fig.add_subplot(111)\n",
    "ax.boxplot(data)\n",
    "\n",
    "ax.set_xlabel('Distances')\n",
    "ax.set_ylabel('Avg Speed')\n",
    "ax.set_title('Avg Speed vs distance categories')\n",
    "ax.set_xticks = ['1','2','3']\n",
    "# ax.set_xticklabels = [\"5K\", \"10K\", \"21K\"] ---> does not work\n",
    "plt.show()"
   ]
  },
  {
   "cell_type": "markdown",
   "metadata": {},
   "source": [
    "<p> It certainly looks like I can improve my 10k pace.</p>"
   ]
  },
  {
   "cell_type": "code",
   "execution_count": 16,
   "metadata": {
    "collapsed": false
   },
   "outputs": [
    {
     "data": {
      "image/png": "[encoded data removed]",
      "text/plain": [
       "<matplotlib.figure.Figure at 0x7fe78a6e8f28>"
      ]
     },
     "metadata": {},
     "output_type": "display_data"
    }
   ],
   "source": [
    "#Compare number of activities per category\n",
    "activities5k = around5k[\"parsed_date\"].count()\n",
    "activities10k = around10k[\"parsed_date\"].count()\n",
    "activities21k = around21k[\"parsed_date\"].count()\n",
    "\n",
    "data_activities = [activities5k, activities10k, activities21k]\n",
    "pie_labels = [\"5K\", \"10K\", \"21K\"]\n",
    "\n",
    "explode = (0.05, 0, 0)\n",
    "\n",
    "plt.pie(data_activities, explode=explode, labels=pie_labels)\n",
    "plt.title('Frequency of distances')\n",
    "\n",
    "plt.show()"
   ]
  },
  {
   "cell_type": "code",
   "execution_count": 17,
   "metadata": {
    "collapsed": false
   },
   "outputs": [
    {
     "data": {
      "image/png": "[encoded data removed]",
      "text/plain": [
       "<matplotlib.figure.Figure at 0x7fe78a6e8f60>"
      ]
     },
     "metadata": {},
     "output_type": "display_data"
    }
   ],
   "source": [
    "#Distance histogram \n",
    "hist, bins = np.histogram(running[\"Distance (km)\"], bins=10)\n",
    "width = 0.8 * (bins[1] - bins[0])\n",
    "center = (bins[:-1] + bins[1:]) / 2\n",
    "plt.bar(center, hist, align='center', width=width)\n",
    "plt.title(\"Distance\")\n",
    "plt.show()"
   ]
  },
  {
   "cell_type": "code",
   "execution_count": 18,
   "metadata": {
    "collapsed": false
   },
   "outputs": [
    {
     "data": {
      "image/png": "[encoded data removed]",
      "text/plain": [
       "<matplotlib.figure.Figure at 0x7fe786c41b00>"
      ]
     },
     "metadata": {},
     "output_type": "display_data"
    }
   ],
   "source": [
    "#Speed histogram \n",
    "hist, bins = np.histogram(running[\"Average Speed (km/h)\"], bins= 12)\n",
    "width = 0.8 * (bins[1] - bins[0])\n",
    "center = (bins[:-1] + bins[1:]) / 2\n",
    "plt.bar(center, hist, align='center', width=width)\n",
    "plt.title(\"Speed\")\n",
    "plt.show()"
   ]
  },
  {
   "cell_type": "code",
   "execution_count": 19,
   "metadata": {
    "collapsed": false
   },
   "outputs": [
    {
     "data": {
      "image/png": "[encoded data removed]",
      "text/plain": [
       "<matplotlib.figure.Figure at 0x7fe786d9f5f8>"
      ]
     },
     "metadata": {},
     "output_type": "display_data"
    }
   ],
   "source": [
    "#Pace histogram \n",
    "hist, bins = np.histogram(running[\"Average Pace\"], bins=16)\n",
    "width = 0.8 * (bins[1] - bins[0])\n",
    "center = (bins[:-1] + bins[1:]) / 2\n",
    "plt.bar(center, hist, align='center', width=width)\n",
    "plt.title(\"Pace\")\n",
    "plt.show()"
   ]
  },
  {
   "cell_type": "code",
   "execution_count": 20,
   "metadata": {
    "collapsed": true
   },
   "outputs": [],
   "source": [
    "# Creates function to create labels:\n",
    "def stringer(series):\n",
    "    list = []\n",
    "    for elem in series: \n",
    "        list.append(str(elem))\n",
    "    return list"
   ]
  },
  {
   "cell_type": "code",
   "execution_count": 23,
   "metadata": {
    "collapsed": false
   },
   "outputs": [
    {
     "data": {
      "image/png": "[encoded data removed]",
      "text/plain": [
       "<matplotlib.figure.Figure at 0x7fe786731550>"
      ]
     },
     "metadata": {},
     "output_type": "display_data"
    }
   ],
   "source": [
    "# Speed progression - distance ~5k\n",
    "\n",
    "fig, ax = plt.subplots()\n",
    "\n",
    "dates = around5k[\"parsed_date\"]\n",
    "\n",
    "my_labels = stringer(around5k[\"parsed_date\"])\n",
    "\n",
    "y = around5k[\"Average Speed (km/h)\"]\n",
    "x = mdates.date2num(dates.astype(dt))\n",
    "\n",
    "m, b = np.polyfit(x, y, 1)\n",
    "\n",
    "dates_labels = dates\n",
    "ax.plot(x,y)\n",
    "ax.plot(x, m*x + b)\n",
    "ax.set_title(\"Speed progression - distance ~5k\")\n",
    "ax.set_ylabel('Speed')\n",
    "ax.set_xlabel('Dates')\n",
    "#ax.set_xticklabels(x, my_labels, rotation = 'vertical') ---> does not work?\n",
    "\n",
    "plt.show()"
   ]
  },
  {
   "cell_type": "code",
   "execution_count": 31,
   "metadata": {
    "collapsed": false
   },
   "outputs": [
    {
     "name": "stdout",
     "output_type": "stream",
     "text": [
      "2019-07-24 19:35:38.892509+00:00\n"
     ]
    }
   ],
   "source": [
    "#Predicting speed goal achievement\n",
    "\n",
    "y = around5k[\"Average Speed (km/h)\"]\n",
    "x = mdates.date2num(dates.astype(dt))\n",
    "\n",
    "m, b = np.polyfit(x, y, 1)\n",
    "\n",
    "#predicted_speed = m*x + b\n",
    "x = (11 - b)/m\n",
    "\n",
    "print(mdates.num2date(x))\n"
   ]
  },
  {
   "cell_type": "markdown",
   "metadata": {
    "collapsed": false
   },
   "source": [
    "<h3> Final considerations:</h3>\n",
    "<p> I certainly can improve my 10k pace. And though I know progress is not a linear function, I am really optimistic with the prediction.</p>"
   ]
  }
 ],
 "metadata": {
  "kernelspec": {
   "display_name": "Python 3",
   "language": "python",
   "name": "python3"
  },
  "language_info": {
   "codemirror_mode": {
    "name": "ipython",
    "version": 3
   },
   "file_extension": ".py",
   "mimetype": "text/x-python",
   "name": "python",
   "nbconvert_exporter": "python",
   "pygments_lexer": "ipython3",
   "version": "3.6.0"
  }
 },
 "nbformat": 4,
 "nbformat_minor": 2
}
